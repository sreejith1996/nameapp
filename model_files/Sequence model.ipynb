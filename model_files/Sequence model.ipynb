{
 "cells": [
  {
   "cell_type": "code",
   "execution_count": 21,
   "metadata": {},
   "outputs": [
    {
     "name": "stdout",
     "output_type": "stream",
     "text": [
      "Requirement already satisfied: keras in /home/sreejith/anaconda3/lib/python3.8/site-packages (2.4.3)\n",
      "Requirement already satisfied: pyyaml in /home/sreejith/anaconda3/lib/python3.8/site-packages (from keras) (5.3.1)\n",
      "Requirement already satisfied: scipy>=0.14 in /home/sreejith/anaconda3/lib/python3.8/site-packages (from keras) (1.5.2)\n",
      "Requirement already satisfied: numpy>=1.9.1 in /home/sreejith/anaconda3/lib/python3.8/site-packages (from keras) (1.19.2)\n",
      "Requirement already satisfied: h5py in /home/sreejith/anaconda3/lib/python3.8/site-packages (from keras) (2.10.0)\n",
      "Requirement already satisfied: six in /home/sreejith/anaconda3/lib/python3.8/site-packages (from h5py->keras) (1.15.0)\n"
     ]
    }
   ],
   "source": [
    "import pandas as pd\n",
    "import numpy as np \n",
    "import string\n",
    "#!pip install keras\n",
    "import tensorflow as tf\n",
    "import random\n",
    "import pickle"
   ]
  },
  {
   "cell_type": "code",
   "execution_count": 3,
   "metadata": {},
   "outputs": [
    {
     "name": "stdout",
     "output_type": "stream",
     "text": [
      "['may.', 'adaldrida.', 'celendine.', 'gloriana.', 'pimpernel.', 'tanta.', 'alfrida.', 'cora.', 'goldilocks.', 'melba.', 'poppy.', 'yolanda.', 'amalda.', 'cornelia.', 'grimalda.', 'melilot.', 'prima.', 'amaranth.', 'chica.', 'hilda.', 'melissa.', 'primrose.', 'amethyst.', 'daisy.', 'jasmine.', 'menegilda.', 'primula.', 'angelica.', 'diamanda.', 'jemima.', 'mentha.', 'prisca.', 'arabella.', 'diamond.', 'jessamine.', 'mimosa.', 'regina.', 'asphodel.', 'dina.', 'lalia.', 'mirabella.', 'rhoda.', 'belba.', 'donnamira.', 'laura.', 'miranda.', 'robinia.', 'belinda.', 'dora.', 'lavinia.', 'myrtle.', 'rosa.', 'bellisima.', 'duenna.', 'lily.', 'nina.', 'rosamunda.', 'bell.', 'eglantine.', 'linda.', 'nora.', 'rose.', 'belladonna.', 'elanor.', 'lobelia.', 'pamphila.', 'rowan.', 'bertha.', 'esmeralda.', 'malva.', 'pandora.', 'ruby.', 'berylla.', 'estella.', 'marigold.', 'pansy.', 'salvia.', 'camelia.', 'fatima.', 'mantissa.', 'pearl.', 'savanna.', 'cara.', 'gerda.', 'matilda.', 'peony.', 'selina.', 'caramella.', 'gilly.', 'maxima.', 'pervinca.', 'semolina.', 'adelbert.', 'conrad.', 'gringamor.', 'isumbras.', 'polo.', 'vigo.', 'adelgrim.', 'cosimo.', 'grossman.', 'jago.', 'ponto.', 'wilcome.', 'adelard.', 'cotman.', 'gruffo.', 'jo.', 'porro.', 'wilibald.', 'alaric.', 'cottar.', 'guido.', 'jolly.', 'posco.', 'wilimar.', 'alberic.', 'gundabald.', 'largo.', 'reginard.', 'will.', 'andwise.', 'dinodas.', 'gundahar.', 'longo.', 'robin.', 'wiseman.', 'ansegar.', 'doderic.', 'gundobad.', 'lotho.', 'robur.', 'arnor.', 'dodinas.', 'gundolpho.', 'magnus.', 'roderic.', 'athanaric.', 'drogo.', 'habaccuc.', 'marcho.', 'rollo.', 'balbo.', 'dudo.', 'haiduc.', 'marco.', 'rorimac.', 'bandobras.', 'elfstan.', 'hal.', 'marmadoc.', 'rudibert.', 'marmaduc.', 'berilac.', 'erling.', 'halfred.', 'marroc.', 'rudigar.', 'bilba.', 'everard.', 'hamfast.', 'meneaduc.', 'rudolph.', 'bilbo.', 'falco.', 'hamilcar.', 'meriadoc.', 'rufus.', 'bildad.', 'faramir.', 'harding.', 'merimac.', 'sadoc.', 'bingo.', 'faramond.', 'hending.', 'merimas.', 'sago.', 'bladud.', 'fastred.', 'heribald.', 'merry.', 'samlad.', 'blanco.', 'fastolph.', 'herugar.', 'milo.', 'samwise.', 'bucca.', 'ferdinand.', 'hildibrand.', 'minto.', 'sancho.', 'bob.', 'ferumbras.', 'hildigard.', 'moro.', 'saradas.', 'basso.', 'filibert.', 'hildifons.', 'mosco.', 'saradoc.', 'bodo.', 'flambard.', 'hildigrim.', 'mungo.', 'scudamor.', 'bosco.', 'folcard.', 'hob.', 'nob.', 'seredic.', 'bowman.', 'folco.', 'hobson.', 'nibs.', 'sigismond.', 'briffo.', 'fortinbras.', 'holfast.', 'nicol.', 'smeagol.', 'bruno.', 'fosco.', 'holman.', 'nick.', 'tango.', 'brutus.', 'fredegar.', 'hugo.', 'obo.', 'ted.', 'bungo.', 'frodo.', 'ilberic.', 'odo.', 'theobald.', 'caradas.', 'fulvus.', 'iago.', 'odovacar.', 'theodoric.', 'caradoc.', 'gerontius.', 'inigo.', 'olo.', 'tobias.', 'carambo.', 'goodwill.', 'iolo.', 'orgulas.', 'tobold.', 'carl.', 'gorhendad.', 'isembard.', 'orlando.', 'togo.', 'cedivar.', 'gorbadoc.', 'gorbaduc.', 'isembold.', 'otho.', 'tolman.', 'celedor.', 'gorbulas.', 'isengar.', 'paladin.', 'tomburan.', 'tomacca.', 'ceredic.', 'gormadoc.', 'isengrim.', 'peregrin.', 'uffo.', 'cerdic.', 'griffo.', 'isengrin.', 'pippin.', 'valdemar.']\n"
     ]
    }
   ],
   "source": [
    "dwarves = open(\"Dwarf Names Training Data.txt\",\"r\")\n",
    "dwarf_names = []\n",
    "for dwarf in dwarves:\n",
    "    dwarf_stripped = dwarf.rstrip()\n",
    "    dwarf_stripped = dwarf_stripped.lower()\n",
    "    dwarf_names.append(dwarf_stripped)\n",
    "\n",
    "dwarf_names = list(map(lambda s: s + '.', dwarf_names))\n",
    "    \n",
    "print(dwarf_names)"
   ]
  },
  {
   "cell_type": "code",
   "execution_count": 4,
   "metadata": {},
   "outputs": [
    {
     "name": "stdout",
     "output_type": "stream",
     "text": [
      "26\n",
      "abcdefghijklmnopqrstuvwxyz\n"
     ]
    }
   ],
   "source": [
    "chars = string.ascii_lowercase\n",
    "chars_num = len(chars)\n",
    "print(chars_num)\n",
    "print(chars)"
   ]
  },
  {
   "cell_type": "code",
   "execution_count": 5,
   "metadata": {},
   "outputs": [
    {
     "name": "stdout",
     "output_type": "stream",
     "text": [
      "11\n",
      "280\n"
     ]
    }
   ],
   "source": [
    "max_length = len(max(dwarf_names, key=len))\n",
    "dwarf_length = len(dwarf_names)\n",
    "print(max_length)\n",
    "print(dwarf_length)"
   ]
  },
  {
   "cell_type": "code",
   "execution_count": 6,
   "metadata": {},
   "outputs": [
    {
     "name": "stdout",
     "output_type": "stream",
     "text": [
      "{'a': 0, 'b': 1, 'c': 2, 'd': 3, 'e': 4, 'f': 5, 'g': 6, 'h': 7, 'i': 8, 'j': 9, 'k': 10, 'l': 11, 'm': 12, 'n': 13, 'o': 14, 'p': 15, 'q': 16, 'r': 17, 's': 18, 't': 19, 'u': 20, 'v': 21, 'w': 22, 'x': 23, 'y': 24, 'z': 25, '.': 26}\n",
      "{0: 'a', 1: 'b', 2: 'c', 3: 'd', 4: 'e', 5: 'f', 6: 'g', 7: 'h', 8: 'i', 9: 'j', 10: 'k', 11: 'l', 12: 'm', 13: 'n', 14: 'o', 15: 'p', 16: 'q', 17: 'r', 18: 's', 19: 't', 20: 'u', 21: 'v', 22: 'w', 23: 'x', 24: 'y', 25: 'z', 26: '.'}\n"
     ]
    }
   ],
   "source": [
    "max_length = len(max(dwarf_names, key=len))\n",
    "dwarf_length = len(dwarf_names)\n",
    "char_to_id = {c:i for i, c in enumerate(chars)}\n",
    "char_to_id['.'] = 26\n",
    "\n",
    "id_to_char = {v:k for v,k in enumerate(chars)}\n",
    "id_to_char[26] = '.'\n",
    "\n",
    "\n",
    "char_dim = len(char_to_id)\n",
    "print(char_to_id)\n",
    "print(id_to_char)"
   ]
  },
  {
   "cell_type": "code",
   "execution_count": 7,
   "metadata": {},
   "outputs": [
    {
     "name": "stdout",
     "output_type": "stream",
     "text": [
      "27\n"
     ]
    }
   ],
   "source": [
    "X = np.zeros((dwarf_length,max_length,char_dim))\n",
    "print(len(X[0][0]))"
   ]
  },
  {
   "cell_type": "code",
   "execution_count": 8,
   "metadata": {},
   "outputs": [],
   "source": [
    "X = np.zeros((dwarf_length,max_length,char_dim))\n",
    "Y = np.zeros((dwarf_length,max_length,char_dim))\n"
   ]
  },
  {
   "cell_type": "code",
   "execution_count": 9,
   "metadata": {},
   "outputs": [],
   "source": [
    "for i in range(dwarf_length):\n",
    "    dwarf = list(dwarf_names[i])\n",
    "    for j in range(len(dwarf)):\n",
    "        X[i,j,char_to_id[dwarf[j]]] = 1\n",
    "        if j < len(dwarf)-1:\n",
    "            Y[i,j,char_to_id[dwarf[j+1]]] = 1\n"
   ]
  },
  {
   "cell_type": "code",
   "execution_count": 10,
   "metadata": {},
   "outputs": [],
   "source": [
    "from keras.models import Sequential\n",
    "from keras.layers import LSTM, Dense\n",
    "from keras.callbacks import LambdaCallback"
   ]
  },
  {
   "cell_type": "code",
   "execution_count": 11,
   "metadata": {},
   "outputs": [],
   "source": [
    "\n",
    "model = Sequential()\n",
    "model.add(LSTM(128, input_shape=(max_length, char_dim), return_sequences=True))\n",
    "model.add(Dense(char_dim, activation='softmax'))\n",
    "\n",
    "model.compile(loss='categorical_crossentropy', optimizer='adam')"
   ]
  },
  {
   "cell_type": "code",
   "execution_count": 18,
   "metadata": {},
   "outputs": [],
   "source": [
    "def make_name(model,user_string):\n",
    "    name = []\n",
    "    x = np.zeros((1, max_length, char_dim))\n",
    "    end = False\n",
    "    i = 0\n",
    "    any_length = random.randint(5,10)\n",
    "    name.append(user_string)\n",
    "    \n",
    "    while end==False:\n",
    "        probs = list(model.predict(x)[0,i])\n",
    "        probs = probs / np.sum(probs)\n",
    "        index = np.random.choice(range(char_dim), p=probs)\n",
    "        if i == max_length-2:\n",
    "            character = '.'\n",
    "            end = True\n",
    "        else:\n",
    "            character = id_to_char[index]\n",
    "        name.append(character)\n",
    "        x[0, i+1, index] = 1\n",
    "        i += 1\n",
    "        if character == '.':\n",
    "            end = True\n",
    "    \n",
    "    print(''.join(name))"
   ]
  },
  {
   "cell_type": "code",
   "execution_count": 13,
   "metadata": {},
   "outputs": [],
   "source": [
    "def generate_name_loop(epoch, _):\n",
    "    if epoch % 500 == 0:\n",
    "        \n",
    "        print('Names generated after epoch %d:' % epoch)\n",
    "\n",
    "        for i in range(3):\n",
    "            make_name(model,\"\")\n",
    "        \n",
    "        print()"
   ]
  },
  {
   "cell_type": "code",
   "execution_count": 14,
   "metadata": {},
   "outputs": [
    {
     "name": "stdout",
     "output_type": "stream",
     "text": [
      "Names generated after epoch 0:\n",
      "feiwglnao.\n",
      "litaeekrb.\n",
      "bmuwzhazj.\n",
      "\n",
      "Names generated after epoch 500:\n",
      "wifadm.\n",
      "fseraaald.\n",
      "rimzaa.\n",
      "\n",
      "Names generated after epoch 1000:\n",
      "edipakr.\n",
      "osodro.\n",
      "doy.\n",
      "\n",
      "Names generated after epoch 1500:\n",
      "ilarn.\n",
      "ol.\n",
      "ul.\n",
      "\n",
      "Names generated after epoch 2000:\n",
      "olocls.\n",
      "aravrs.\n",
      "ilanabopd.\n",
      "\n",
      "Names generated after epoch 2500:\n",
      "yhocma.\n",
      "orl.\n",
      "isba.\n",
      "\n"
     ]
    },
    {
     "data": {
      "text/plain": [
       "<tensorflow.python.keras.callbacks.History at 0x7fc5c9769dc0>"
      ]
     },
     "execution_count": 14,
     "metadata": {},
     "output_type": "execute_result"
    }
   ],
   "source": [
    "name_generator = LambdaCallback(on_epoch_end = generate_name_loop)\n",
    "\n",
    "model.fit(X, Y, batch_size=64, epochs=3000, callbacks=[name_generator], verbose=0)\n",
    "\n",
    "# why is the character of the same length everytime? - this was because I did not have a full stop before"
   ]
  },
  {
   "cell_type": "code",
   "execution_count": null,
   "metadata": {},
   "outputs": [],
   "source": []
  },
  {
   "cell_type": "code",
   "execution_count": 17,
   "metadata": {},
   "outputs": [
    {
     "name": "stdout",
     "output_type": "stream",
     "text": [
      "Sreexentadero.\n"
     ]
    }
   ],
   "source": [
    "make_name(model, \"Sree\")"
   ]
  },
  {
   "cell_type": "code",
   "execution_count": 24,
   "metadata": {},
   "outputs": [],
   "source": [
    "model.save('my_model.h5')"
   ]
  },
  {
   "cell_type": "code",
   "execution_count": 26,
   "metadata": {},
   "outputs": [
    {
     "name": "stdout",
     "output_type": "stream",
     "text": [
      "Sujotu.\n"
     ]
    }
   ],
   "source": [
    "from keras.models import load_model\n",
    "loadingmodel = load_model('my_model.h5')\n",
    "make_name(loadingmodel,\"Suj\")"
   ]
  },
  {
   "cell_type": "code",
   "execution_count": null,
   "metadata": {},
   "outputs": [],
   "source": []
  }
 ],
 "metadata": {
  "kernelspec": {
   "display_name": "Python 3",
   "language": "python",
   "name": "python3"
  },
  "language_info": {
   "codemirror_mode": {
    "name": "ipython",
    "version": 3
   },
   "file_extension": ".py",
   "mimetype": "text/x-python",
   "name": "python",
   "nbconvert_exporter": "python",
   "pygments_lexer": "ipython3",
   "version": "3.8.3"
  }
 },
 "nbformat": 4,
 "nbformat_minor": 4
}
